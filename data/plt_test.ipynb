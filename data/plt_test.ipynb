{
 "cells": [
  {
   "cell_type": "code",
   "execution_count": 1,
   "metadata": {},
   "outputs": [],
   "source": [
    "import handpose_data as hd\n",
    "import numpy as np\n",
    "%matplotlib inline\n",
    "import matplotlib.pyplot as plt"
   ]
  },
  {
   "cell_type": "code",
   "execution_count": 31,
   "metadata": {},
   "outputs": [
    {
     "name": "stdout",
     "output_type": "stream",
     "text": [
      "torch.Size([6, 368, 368])\n",
      "torch.Size([2, 22, 45, 45])\n",
      "torch.Size([1, 368, 368])\n"
     ]
    }
   ],
   "source": [
    "data_dir = '../dataset/frames/001'\n",
    "label_dir = '../dataset/label/001'\n",
    "\n",
    "data = hd.UCIHandPoseDataset(data_dir=data_dir,\n",
    "                          label_dir=label_dir, temporal=2, sigma=0.8)\n",
    "\n",
    "images, label_maps, center_map = data[2]\n",
    "print images.shape\n",
    "print label_maps.shape\n",
    "print center_map.shape\n",
    "\n",
    "s = np.zeros((45,45))\n",
    "for i in range(1,22):\n",
    "    maps = label_maps[0,i,:,:]      #   Tensor  45 * 45  \n",
    "    a = maps.numpy()                #   numpy   45 * 45 \n",
    "    s = s + a\n",
    "    \n",
    "# import scipy.misc\n",
    "# scipy.misc.imsave('outfile.jpg', s)"
   ]
  },
  {
   "cell_type": "code",
   "execution_count": 30,
   "metadata": {},
   "outputs": [
    {
     "data": {
      "text/plain": [
       "<matplotlib.image.AxesImage at 0x7f5c68b69e10>"
      ]
     },
     "execution_count": 30,
     "metadata": {},
     "output_type": "execute_result"
    },
    {
     "data": {
      "image/png": "[encoded data removed]",
      "text/plain": [
       "<Figure size 432x288 with 1 Axes>"
      ]
     },
     "metadata": {},
     "output_type": "display_data"
    }
   ],
   "source": [
    "plt.imshow(s)"
   ]
  },
  {
   "cell_type": "code",
   "execution_count": null,
   "metadata": {},
   "outputs": [],
   "source": []
  },
  {
   "cell_type": "code",
   "execution_count": null,
   "metadata": {},
   "outputs": [],
   "source": []
  }
 ],
 "metadata": {
  "kernelspec": {
   "display_name": "handpose-py2(myenv)",
   "language": "python",
   "name": "handpose-py2"
  },
  "language_info": {
   "codemirror_mode": {
    "name": "ipython",
    "version": 2
   },
   "file_extension": ".py",
   "mimetype": "text/x-python",
   "name": "python",
   "nbconvert_exporter": "python",
   "pygments_lexer": "ipython2",
   "version": "2.7.15"
  }
 },
 "nbformat": 4,
 "nbformat_minor": 2
}
