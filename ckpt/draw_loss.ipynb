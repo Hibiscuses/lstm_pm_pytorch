{
 "cells": [
  {
   "cell_type": "code",
   "execution_count": 2,
   "metadata": {},
   "outputs": [],
   "source": [
    "import json\n",
    "import os\n",
    "import sys\n",
    "import matplotlib.pyplot as plt\n",
    "\n"
   ]
  },
  {
   "cell_type": "code",
   "execution_count": 15,
   "metadata": {},
   "outputs": [
    {
     "data": {
      "text/plain": [
       "[<matplotlib.lines.Line2D at 0x1189004d0>]"
      ]
     },
     "execution_count": 15,
     "metadata": {},
     "output_type": "execute_result"
    },
    {
     "data": {
      "image/png": "[encoded data removed]",
      "text/plain": [
       "<Figure size 432x288 with 1 Axes>"
      ]
     },
     "metadata": {},
     "output_type": "display_data"
    }
   ],
   "source": [
    "aa=[]\n",
    "\n",
    "for epoch in range(2,5):\n",
    "    losses = os.listdir('/Users/mahaoyu/UCI/train_images/wwsww/loss_epoch'+str(epoch))\n",
    "    losses.sort()\n",
    "\n",
    "    loss=[]\n",
    "    for l in losses:\n",
    "        if l == '.DS_Store':\n",
    "            continue \n",
    "\n",
    "        lossj = json.load(open('/Users/mahaoyu/UCI/train_images/wwsww/loss_epoch'+str(epoch) + '/' + l))\n",
    "\n",
    "        n = l.split('.')[0][1:]\n",
    "        a = lossj['total']\n",
    "        loss.append([int(n), a])\n",
    "\n",
    "    loss.sort()\n",
    "\n",
    "    for l in loss:\n",
    "        aa.append(l[1])\n",
    "\n",
    "plt.plot(aa)\n",
    "    "
   ]
  },
  {
   "cell_type": "code",
   "execution_count": 91,
   "metadata": {},
   "outputs": [],
   "source": []
  },
  {
   "cell_type": "code",
   "execution_count": null,
   "metadata": {},
   "outputs": [],
   "source": []
  },
  {
   "cell_type": "code",
   "execution_count": null,
   "metadata": {},
   "outputs": [],
   "source": []
  },
  {
   "cell_type": "code",
   "execution_count": null,
   "metadata": {},
   "outputs": [],
   "source": []
  },
  {
   "cell_type": "code",
   "execution_count": null,
   "metadata": {},
   "outputs": [],
   "source": []
  }
 ],
 "metadata": {
  "kernelspec": {
   "display_name": "Python 2",
   "language": "python",
   "name": "python2"
  },
  "language_info": {
   "codemirror_mode": {
    "name": "ipython",
    "version": 2
   },
   "file_extension": ".py",
   "mimetype": "text/x-python",
   "name": "python",
   "nbconvert_exporter": "python",
   "pygments_lexer": "ipython2",
   "version": "2.7.15"
  }
 },
 "nbformat": 4,
 "nbformat_minor": 2
}
